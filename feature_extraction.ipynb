{
  "nbformat": 4,
  "nbformat_minor": 0,
  "metadata": {
    "kernelspec": {
      "display_name": "Python 3",
      "language": "python",
      "name": "python3"
    },
    "language_info": {
      "codemirror_mode": {
        "name": "ipython",
        "version": 3
      },
      "file_extension": ".py",
      "mimetype": "text/x-python",
      "name": "python",
      "nbconvert_exporter": "python",
      "pygments_lexer": "ipython3",
      "version": "3.8.3"
    },
    "colab": {
      "name": "feature_extraction.ipynb",
      "provenance": []
    },
    "accelerator": "GPU"
  },
  "cells": [
    {
      "cell_type": "markdown",
      "metadata": {
        "id": "Ls7PNyUtLAfb"
      },
      "source": [
        "In order to convert from .HEIC to .jpg, these prcesses were followed\n",
        "<br>\n",
        "sudo sed -Ei 's/^# deb-src /deb-src /' /etc/apt/sources.list\n",
        "<br>\n",
        "sudo apt-get update\n",
        "<br>\n",
        "sudo apt-get install build-essential autoconf libtool git-core\n",
        "<br>\n",
        "sudo apt-get build-dep imagemagick libmagickcore-dev libde265 libheif\n",
        "<br>\n",
        "cd /usr/src/\n",
        "<br>\n",
        "sudo git clone https://github.com/strukturag/libde265.git \n",
        "<br>\n",
        "sudo git clone https://github.com/strukturag/libheif.git \n",
        "<br>\n",
        "cd libde265/ \n",
        "<br>\n",
        "sudo ./autogen.sh \n",
        "<br>\n",
        "sudo ./configure \n",
        "<br>\n",
        "sudo make  \n",
        "<br>\n",
        "sudo make install \n",
        "<br>\n",
        "cd /usr/src/libheif/ \n",
        "<br>\n",
        "sudo ./autogen.sh \n",
        "<br>\n",
        "sudo ./configure \n",
        "<br>\n",
        "sudo make  \n",
        "<br>\n",
        "sudo make install \n",
        "<br>\n",
        "cd /usr/src/ \n",
        "<br>\n",
        "sudo wget https://www.imagemagick.org/download/ImageMagick.tar.gz \n",
        "<br>\n",
        "sudo tar xf ImageMagick.tar.gz \n",
        "<br>\n",
        "cd ImageMagick-7*\n",
        "<br>\n",
        "sudo ./configure --with-heic=yes \n",
        "<br>\n",
        "sudo make  \n",
        "<br>\n",
        "sudo make install  \n",
        "<br>\n",
        "sudo ldconfig\n",
        "<br>\n",
        "\n",
        "using WSL before pip installing heic-to-jpg (!pip install heic-to-jpg) then running the command (!heic-to-jpg -s IMG_7935.HEIC --keep)"
      ]
    },
    {
      "cell_type": "code",
      "metadata": {
        "colab": {
          "base_uri": "https://localhost:8080/"
        },
        "id": "BbKltjIPLh0T",
        "outputId": "b623c6d3-f156-4eef-b03a-696c3b9111d7"
      },
      "source": [
        "from google.colab import drive\n",
        "drive.mount('/content/gdrive')\n",
        "\n",
        "%cd gdrive/MyDrive"
      ],
      "execution_count": null,
      "outputs": [
        {
          "output_type": "stream",
          "text": [
            "Mounted at /content/gdrive\n",
            "/content/gdrive/MyDrive\n"
          ],
          "name": "stdout"
        }
      ]
    },
    {
      "cell_type": "code",
      "metadata": {
        "id": "ydSpeK5pLAfb"
      },
      "source": [
        "from PIL import Image\n",
        "import cv2 as cv2\n",
        "import matplotlib.pyplot as plt\n",
        "from matplotlib import cm\n",
        "from matplotlib import colors\n",
        "import numpy as np\n",
        "import os\n",
        "from os import listdir\n",
        "from os.path import isfile, join\n",
        "import torch\n",
        "import torch.nn as nn\n",
        "import torch.optim as optim\n",
        "import torch.nn.functional as F\n",
        "from sklearn.metrics import accuracy_score\n",
        "from torch.utils.data import DataLoader, Dataset\n",
        "from sklearn.model_selection import train_test_split\n",
        "from sklearn.neighbors import KNeighborsClassifier\n",
        "from sklearn.model_selection import cross_val_score\n",
        "import time"
      ],
      "execution_count": null,
      "outputs": []
    },
    {
      "cell_type": "code",
      "metadata": {
        "id": "iqvfZUDUbCW7"
      },
      "source": [
        "m = '/content/gdrive/MyDrive/Documents/for_colab'"
      ],
      "execution_count": null,
      "outputs": []
    },
    {
      "cell_type": "code",
      "metadata": {
        "id": "QyodBj9GLAfe"
      },
      "source": [
        "def resize_images(in_dir, out_dir):\n",
        "    pic_files = [f for f in listdir(in_dir) if isfile(join(in_dir, f))]\n",
        "    \n",
        "    for i, data in enumerate(pic_files):\n",
        "        image = Image.open(os.path.join(in_dir, data))\n",
        "        new_image = image.resize((64, 64))\n",
        "        new_image.save(os.path.join(out_dir, data))\n",
        "\n",
        "m = '/content/gdrive/MyDrive/Documents/for_colab'        \n",
        "in_dirs = [m + '/Shell_output/bad', m + '/Kernel_output/bad', m + '/Shell_output/good', m + '/Kernel_output/good']\n",
        "out_dirs = [m + '/Shell_output/bad_resize', m + '/Kernel_output/bad_resize', m + '/Shell_output/good_resize', m + '/Kernel_output/good_resize']\n",
        "\n",
        "def resize_images_with_dirs(in_dirs, out_dirs):\n",
        "    for i, data in enumerate(in_dirs):\n",
        "        resize_images(data, out_dirs[i])\n",
        "        \n",
        "resize_images_with_dirs(in_dirs, out_dirs)"
      ],
      "execution_count": null,
      "outputs": []
    },
    {
      "cell_type": "code",
      "metadata": {
        "id": "nokONupXLAff"
      },
      "source": [
        "#Augment Images\n",
        "def aug_img(in_dir, out_dir):\n",
        "    pic_files = [f for f in listdir(in_dir) if isfile(join(in_dir, f))]\n",
        "    \n",
        "    for i, data in enumerate(pic_files):\n",
        "        name, ext = os.path.splitext(data)\n",
        "        image = Image.open(os.path.join(in_dir, data))\n",
        "        image.save(os.path.join(out_dir, name + '_0' + ext))\n",
        "        \n",
        "        image_rot_90 = image.rotate(90)\n",
        "        image_rot_90.save(os.path.join(out_dir, name + '_90' + ext))\n",
        "\n",
        "        image_rot_180 = image.rotate(180)\n",
        "        image_rot_180.save(os.path.join(out_dir, name + '_180' + ext))\n",
        "\n",
        "        image_rot_270 = image.rotate(270)\n",
        "        image_rot_270.save(os.path.join(out_dir, name + '_270' + ext))\n",
        "        \n",
        "        image_flip = image.transpose(Image.FLIP_LEFT_RIGHT)\n",
        "        image_flip.save(os.path.join(out_dir, name + '_flip' + ext))\n",
        "\n",
        "in_dirs = [m + '/Shell_output/bad_resize', m + '/Kernel_output/bad_resize', m + '/Shell_output/good_resize', m + '/Kernel_output/good_resize']\n",
        "out_dirs = [m + '/Shell_output/bad_aug', m + '/Kernel_output/bad_aug', m + '/Shell_output/good_aug', m + '/Kernel_output/good_aug']\n",
        "\n",
        "def aug_img_with_dirs(in_dirs, out_dirs):\n",
        "    for i, data in enumerate(in_dirs):\n",
        "        aug_img(data, out_dirs[i])\n",
        "\n",
        "aug_img_with_dirs(in_dirs, out_dirs)"
      ],
      "execution_count": null,
      "outputs": []
    },
    {
      "cell_type": "code",
      "metadata": {
        "colab": {
          "base_uri": "https://localhost:8080/"
        },
        "id": "s9Q6ulChPPEE",
        "outputId": "66ebf630-78c9-4e32-dcc0-97925b0ca887"
      },
      "source": [
        "!ls '/content/gdrive/MyDrive/Documents/for_colab/Shell_output/bad_aug' -1U | wc -l\n",
        "!ls '/content/gdrive/MyDrive/Documents/for_colab/Kernel_output/bad_aug' -1U | wc -l\n",
        "!ls '/content/gdrive/MyDrive/Documents/for_colab/Shell_output/good_aug' -1U | wc -l\n",
        "!ls '/content/gdrive/MyDrive/Documents/for_colab/Kernel_output/good_aug' -1U | wc -l"
      ],
      "execution_count": null,
      "outputs": [
        {
          "output_type": "stream",
          "text": [
            "50\n",
            "85\n",
            "230\n",
            "420\n"
          ],
          "name": "stdout"
        }
      ]
    },
    {
      "cell_type": "code",
      "metadata": {
        "id": "9UuMz_XmLAff"
      },
      "source": [
        "def convert_pic_dir_to_numpy(in_dir, lab_val):\n",
        "    pic_files = [f for f in listdir(in_dir) if isfile(join(in_dir, f))]\n",
        "    \n",
        "    res = []\n",
        "    label = []\n",
        "    \n",
        "    for i, data in enumerate(pic_files):\n",
        "        img = Image.open(os.path.join(in_dir, data))\n",
        "        imgArray = np.array(img)\n",
        "        res.append(imgArray)\n",
        "        label.append(np.array(lab_val))\n",
        "        \n",
        "    return [np.array(res), np.array(label)]\n",
        "\n",
        "out_dirs = [m + '/Shell_output/bad_aug', m + '/Shell_output/good_aug', m + '/Kernel_output/bad_aug', m + '/Kernel_output/good_aug']\n",
        "labs = [0, 1, 0, 1]\n",
        "\n",
        "def pic_to_np_with_dirs(out_dirs, labs):\n",
        "    all_data = []\n",
        "    for i, data in enumerate(out_dirs):\n",
        "        all_data.append(convert_pic_dir_to_numpy(data, labs[i]))\n",
        "    return all_data\n",
        "\n",
        "all_data = pic_to_np_with_dirs(out_dirs, labs)"
      ],
      "execution_count": null,
      "outputs": []
    },
    {
      "cell_type": "code",
      "metadata": {
        "id": "kUHYmBdFLAff"
      },
      "source": [
        "shell_bad_data = all_data[0][0]\n",
        "shell_bad_label = all_data[0][1]\n",
        "\n",
        "shell_good_data = all_data[1][0]\n",
        "shell_good_label = all_data[1][1]\n",
        "\n",
        "kernel_bad_data = all_data[2][0]\n",
        "kernel_bad_label = all_data[2][1]\n",
        "\n",
        "kernel_good_data = all_data[3][0]\n",
        "kernel_good_label = all_data[3][1]"
      ],
      "execution_count": null,
      "outputs": []
    },
    {
      "cell_type": "code",
      "metadata": {
        "colab": {
          "base_uri": "https://localhost:8080/"
        },
        "id": "dgi_WI_-LAfg",
        "outputId": "060c2502-0a13-4d38-dc75-d9928a8fed20"
      },
      "source": [
        "shell_good_data.shape"
      ],
      "execution_count": null,
      "outputs": [
        {
          "output_type": "execute_result",
          "data": {
            "text/plain": [
              "(230, 64, 64, 3)"
            ]
          },
          "metadata": {
            "tags": []
          },
          "execution_count": 6
        }
      ]
    },
    {
      "cell_type": "code",
      "metadata": {
        "id": "sxTmWJtFLAfg"
      },
      "source": [
        "_1_shape = shell_bad_data.shape\n",
        "shell_bad_data_1 = shell_bad_data.reshape(_1_shape[0], _1_shape[1] * _1_shape[2] * _1_shape[3])\n",
        "\n",
        "_2_shape = shell_good_data.shape\n",
        "shell_good_data_1 = shell_good_data.reshape(_2_shape[0], _2_shape[1] * _2_shape[2] * _2_shape[3])\n",
        "\n",
        "_3_shape = kernel_bad_data.shape\n",
        "kernel_bad_data_1 = kernel_bad_data.reshape(_3_shape[0], _3_shape[1] * _3_shape[2] * _3_shape[3])\n",
        "\n",
        "_4_shape = kernel_good_data.shape\n",
        "kernel_good_data_1 = kernel_good_data.reshape(_4_shape[0], _4_shape[1] * _4_shape[2] * _4_shape[3])"
      ],
      "execution_count": null,
      "outputs": []
    },
    {
      "cell_type": "code",
      "metadata": {
        "colab": {
          "base_uri": "https://localhost:8080/"
        },
        "id": "JTckywwDLAfg",
        "outputId": "9f249e72-f6db-4b64-8ccc-a16831241cd5"
      },
      "source": [
        "all_shell_data = np.vstack((shell_bad_data_1, shell_good_data_1)) / 255\n",
        "all_shell_label = np.hstack((shell_bad_label, shell_good_label))\n",
        "print(all_shell_data.shape)\n",
        "\n",
        "all_kernel_data = np.vstack((kernel_bad_data_1, kernel_good_data_1)) / 255\n",
        "all_kernel_label = np.hstack((kernel_bad_label, kernel_good_label))\n",
        "print(all_kernel_data.shape)"
      ],
      "execution_count": null,
      "outputs": [
        {
          "output_type": "stream",
          "text": [
            "(280, 12288)\n",
            "(505, 12288)\n"
          ],
          "name": "stdout"
        }
      ]
    },
    {
      "cell_type": "code",
      "metadata": {
        "id": "BhNRxXmILAfg"
      },
      "source": [
        "sh_X_train, sh_X_test, sh_y_train, sh_y_test = train_test_split(all_shell_data, all_shell_label, test_size=0.33, \n",
        "                                                                random_state=42, shuffle=True)\n",
        "\n",
        "ke_X_train, ke_X_test, ke_y_train, ke_y_test = train_test_split(all_kernel_data, all_kernel_label, test_size=0.33, \n",
        "                                                                random_state=42, shuffle=True)"
      ],
      "execution_count": null,
      "outputs": []
    },
    {
      "cell_type": "markdown",
      "metadata": {
        "id": "Qlzjd3sDR8dQ"
      },
      "source": [
        "##### KNN P.S.-> It isn't shitty"
      ]
    },
    {
      "cell_type": "code",
      "metadata": {
        "id": "-dqlTc9bLAfg"
      },
      "source": [
        "def knn_model_default_error(x_data, y_data, n):\n",
        "    accuracy_list = []\n",
        "    acc_list_explained = []\n",
        "    # Calculating error for K values between 1 and 40\n",
        "    iters = []\n",
        "    for i in range(1, n+1):\n",
        "        knn = KNeighborsClassifier(n_neighbors=i)\n",
        "        knn_scores = cross_val_score(estimator=knn, X=x_data, \n",
        "                                     y=y_data, cv=10)\n",
        "        iters.append(i)\n",
        "        knn_mean_score = 1-knn_scores.mean()\n",
        "        accuracy_list.append(knn_mean_score)\n",
        "        acc_list_explained.append((i,knn_mean_score))\n",
        "    best_k_fold = acc_list_explained[accuracy_list.index(min(accuracy_list))]\n",
        "    return accuracy_list, iters, acc_list_explained, best_k_fold"
      ],
      "execution_count": null,
      "outputs": []
    },
    {
      "cell_type": "code",
      "metadata": {
        "id": "xWi1Ytg9LAfh"
      },
      "source": [
        "# acc_list_train_1, iters_list_train_1, acc_list_exploded_train_1, best_k_fold_value_train_1 = knn_model_default_error(\n",
        "#     sh_X_train, sh_y_train, 20)\n",
        "# acc_list_test_1, iters_list_test_1, acc_list_exploded_test_1, best_k_fold_value_test_1 = knn_model_default_error(\n",
        "#     sh_X_test, sh_y_test, 20)\n",
        "acc_list_test_1, iters_list_test_1, acc_list_exploded_test_1, best_k_fold_value_test_1 = knn_model_default_error(\n",
        "    all_shell_data, all_shell_label, 20)"
      ],
      "execution_count": null,
      "outputs": []
    },
    {
      "cell_type": "code",
      "metadata": {
        "colab": {
          "base_uri": "https://localhost:8080/"
        },
        "id": "CskBaKeon-hG",
        "outputId": "0088c81d-c24e-48d3-b74f-169779cc9bfc"
      },
      "source": [
        "acc_list_exploded_test_1"
      ],
      "execution_count": null,
      "outputs": [
        {
          "output_type": "execute_result",
          "data": {
            "text/plain": [
              "[(1, 0.20714285714285718),\n",
              " (2, 0.2142857142857142),\n",
              " (3, 0.15000000000000002),\n",
              " (4, 0.13928571428571423),\n",
              " (5, 0.13214285714285712),\n",
              " (6, 0.1357142857142858),\n",
              " (7, 0.125),\n",
              " (8, 0.125),\n",
              " (9, 0.13928571428571423),\n",
              " (10, 0.13214285714285712),\n",
              " (11, 0.12857142857142845),\n",
              " (12, 0.125),\n",
              " (13, 0.13928571428571423),\n",
              " (14, 0.13928571428571423),\n",
              " (15, 0.15000000000000002),\n",
              " (16, 0.13928571428571446),\n",
              " (17, 0.15714285714285714),\n",
              " (18, 0.15000000000000002),\n",
              " (19, 0.1607142857142858),\n",
              " (20, 0.1607142857142858)]"
            ]
          },
          "metadata": {
            "tags": []
          },
          "execution_count": 43
        }
      ]
    },
    {
      "cell_type": "code",
      "metadata": {
        "colab": {
          "base_uri": "https://localhost:8080/",
          "height": 367
        },
        "id": "hfGAZWJrLAfh",
        "outputId": "5f6ebb94-3594-402a-edf8-4326120ceb22"
      },
      "source": [
        "plt.figure(figsize=(10, 5))\n",
        "# plt.plot(iters_list_train_1, acc_list_train_1, color='red', linestyle='dashed', marker='o',\n",
        "#          markerfacecolor='green', markersize=10)\n",
        "plt.plot(iters_list_test_1, acc_list_test_1, color='blue', linestyle='dashed', marker='+',\n",
        "         markerfacecolor='green', markersize=10)\n",
        "plt.title('Error vs K Value For in sample and out of sample min_error = ' \n",
        "          + str(min(acc_list_test_1)) + ' min k_fold = ' + str(best_k_fold_value_test_1))\n",
        "plt.grid()\n",
        "plt.xlabel('K Value')\n",
        "plt.ylabel('Error')"
      ],
      "execution_count": null,
      "outputs": [
        {
          "output_type": "execute_result",
          "data": {
            "text/plain": [
              "Text(0, 0.5, 'Error')"
            ]
          },
          "metadata": {
            "tags": []
          },
          "execution_count": 44
        },
        {
          "output_type": "display_data",
          "data": {
            "image/png": "[encoded data removed]",
            "text/plain": [
              "<Figure size 720x360 with 1 Axes>"
            ]
          },
          "metadata": {
            "tags": [],
            "needs_background": "light"
          }
        }
      ]
    },
    {
      "cell_type": "code",
      "metadata": {
        "colab": {
          "base_uri": "https://localhost:8080/"
        },
        "id": "y0tx4IxsLAfh",
        "outputId": "25c02da3-f9c8-4f0e-9188-79a09e8e39da"
      },
      "source": [
        "min(acc_list_test_1)"
      ],
      "execution_count": null,
      "outputs": [
        {
          "output_type": "execute_result",
          "data": {
            "text/plain": [
              "0.13888888888888895"
            ]
          },
          "metadata": {
            "tags": []
          },
          "execution_count": 41
        }
      ]
    },
    {
      "cell_type": "markdown",
      "metadata": {
        "id": "pw2_xJSxLAfh"
      },
      "source": [
        "#### MLP"
      ]
    },
    {
      "cell_type": "code",
      "metadata": {
        "id": "G9UgNd9JLAfi"
      },
      "source": [
        "class MyDataset(Dataset):\n",
        "    \n",
        "    # load the dataset\n",
        "    def __init__(self, x, y):\n",
        "        \n",
        "        # store the inputs and outputs\n",
        "        self.X = x\n",
        "        self.y = y\n",
        "        \n",
        "    # number of rows in the dataset\n",
        "    def __len__(self):\n",
        "        return len(self.y)\n",
        "\n",
        "    def yyy(self, index):\n",
        "      return torch.from_numpy(np.asarray(self.y[index])).long()\n",
        " \n",
        "    # get a row at an index\n",
        "    def __getitem__(self, index):\n",
        "            \n",
        "        ### Get data at index pair with context (1 line)\n",
        "        xx = torch.Tensor(self.X[index]).float()\n",
        "            \n",
        "        ### Get label at index pair (1 line)\n",
        "        yy = torch.from_numpy(np.asarray(self.y[index])).long()\n",
        "            \n",
        "        ### Return data at index pair with context and label at index pair (1 line)\n",
        "        return xx, yy"
      ],
      "execution_count": null,
      "outputs": []
    },
    {
      "cell_type": "code",
      "metadata": {
        "colab": {
          "base_uri": "https://localhost:8080/"
        },
        "id": "7e-O9QkgLAfi",
        "outputId": "bd81c429-f67e-4cf8-efe4-b46eb65c2a05"
      },
      "source": [
        "cuda = torch.cuda.is_available()\n",
        "num_workers = 8 if cuda else 0\n",
        "print(\"Cuda = \"+str(cuda)+\" with num_workers = \"+str(num_workers))"
      ],
      "execution_count": null,
      "outputs": [
        {
          "output_type": "stream",
          "text": [
            "Cuda = True with num_workers = 8\n"
          ],
          "name": "stdout"
        }
      ]
    },
    {
      "cell_type": "code",
      "metadata": {
        "colab": {
          "base_uri": "https://localhost:8080/"
        },
        "id": "ku_LlxKlLAfi",
        "outputId": "56f76771-0e33-42ea-9618-73c0b3a08bed"
      },
      "source": [
        "# training dataloader\n",
        "train_data = MyDataset(sh_X_train, sh_y_train)\n",
        "train_args = dict(shuffle = True, batch_size = 8, \n",
        "                  num_workers = num_workers, pin_memory = True, drop_last=True) if cuda else dict(shuffle = True, batch_size = 256)\n",
        "train_loader = DataLoader(train_data, **train_args)\n",
        "\n",
        "# Validation dataloader\n",
        "val_data = MyDataset(sh_X_test, sh_y_test)\n",
        "val_args = dict(shuffle = False, batch_size = 8, \n",
        "                num_workers = num_workers, pin_memory = True) if cuda else dict(shuffle = False, batch_size = 1)\n",
        "val_loader = DataLoader(val_data, **val_args)"
      ],
      "execution_count": null,
      "outputs": [
        {
          "output_type": "stream",
          "text": [
            "/usr/local/lib/python3.7/dist-packages/torch/utils/data/dataloader.py:481: UserWarning: This DataLoader will create 8 worker processes in total. Our suggested max number of worker in current system is 2, which is smaller than what this DataLoader is going to create. Please be aware that excessive worker creation might get DataLoader running slow or even freeze, lower the worker number to avoid potential slowness/freeze if necessary.\n",
            "  cpuset_checked))\n"
          ],
          "name": "stderr"
        }
      ]
    },
    {
      "cell_type": "code",
      "metadata": {
        "id": "lW5MNk60Uhnx"
      },
      "source": [
        "x,y = train_data.__getitem__(0)"
      ],
      "execution_count": null,
      "outputs": []
    },
    {
      "cell_type": "code",
      "metadata": {
        "colab": {
          "base_uri": "https://localhost:8080/"
        },
        "id": "VmnM5hoqUrIx",
        "outputId": "d4d28a2b-aa28-4337-9f7c-3cdaa6959c70"
      },
      "source": [
        "x"
      ],
      "execution_count": null,
      "outputs": [
        {
          "output_type": "execute_result",
          "data": {
            "text/plain": [
              "tensor([0.7373, 0.6510, 0.8314,  ..., 0.6706, 0.6039, 0.7804])"
            ]
          },
          "metadata": {
            "tags": []
          },
          "execution_count": 14
        }
      ]
    },
    {
      "cell_type": "code",
      "metadata": {
        "colab": {
          "base_uri": "https://localhost:8080/"
        },
        "id": "n5r915DnUsjT",
        "outputId": "27f2b8e6-7ea8-472f-f54c-dbe275307614"
      },
      "source": [
        "y"
      ],
      "execution_count": null,
      "outputs": [
        {
          "output_type": "execute_result",
          "data": {
            "text/plain": [
              "tensor(1)"
            ]
          },
          "metadata": {
            "tags": []
          },
          "execution_count": 15
        }
      ]
    },
    {
      "cell_type": "code",
      "metadata": {
        "id": "H_DgMzexLAfi"
      },
      "source": [
        "## Model Architecture definition\n",
        "\n",
        "class MLP(nn.Module):\n",
        "\n",
        "    # define model elements\n",
        "    def __init__(self, size_list):\n",
        "        super(MLP, self).__init__()\n",
        "        layers = []\n",
        "        # Sequential model definition: Input -> Linear -> ReLU -> Linear -> Output\n",
        "\n",
        "        for i in range(len(size_list) - 2):\n",
        "            layers.append(nn.Linear(size_list[i], size_list[i+1]))\n",
        "            \n",
        "            if i < 2:\n",
        "                layers.append(nn.BatchNorm1d(size_list[i+1]))\n",
        "\n",
        "            if i <= 2:\n",
        "                layers.append(nn.Dropout(0.3))\n",
        "\n",
        "            layers.append(nn.ReLU())\n",
        "        layers.append(nn.Linear(size_list[-2], size_list[-1]))\n",
        "        self.net = nn.Sequential(*layers)\n",
        "\n",
        "    def forward(self, x):\n",
        "        # Model forward pass\n",
        "        return self.net(x)"
      ],
      "execution_count": null,
      "outputs": []
    },
    {
      "cell_type": "code",
      "metadata": {
        "colab": {
          "base_uri": "https://localhost:8080/"
        },
        "id": "CzOOSLvSLAfi",
        "outputId": "fbbeae3a-513d-441c-9270-5fddfe2bc093"
      },
      "source": [
        "#Try 1: [64 * 64 * 3, 8192,1024,64,2] //lr = 0.001\n",
        "model = MLP([64 * 64 * 3, 8192,1024,64,2])\n",
        "\n",
        "# Define Criterion/ Loss function\n",
        "criterion = nn.CrossEntropyLoss()\n",
        "\n",
        "# Define Adam Optimizer\n",
        "optimizer = torch.optim.Adam(model.parameters(), lr = 0.001)\n",
        "\n",
        "device = torch.device(\"cuda\" if cuda else \"cpu\")\n",
        "model.to(device)\n",
        "\n",
        "print(model)"
      ],
      "execution_count": null,
      "outputs": [
        {
          "output_type": "stream",
          "text": [
            "MLP(\n",
            "  (net): Sequential(\n",
            "    (0): Linear(in_features=12288, out_features=8192, bias=True)\n",
            "    (1): BatchNorm1d(8192, eps=1e-05, momentum=0.1, affine=True, track_running_stats=True)\n",
            "    (2): Dropout(p=0.3, inplace=False)\n",
            "    (3): ReLU()\n",
            "    (4): Linear(in_features=8192, out_features=1024, bias=True)\n",
            "    (5): BatchNorm1d(1024, eps=1e-05, momentum=0.1, affine=True, track_running_stats=True)\n",
            "    (6): Dropout(p=0.3, inplace=False)\n",
            "    (7): ReLU()\n",
            "    (8): Linear(in_features=1024, out_features=64, bias=True)\n",
            "    (9): Dropout(p=0.3, inplace=False)\n",
            "    (10): ReLU()\n",
            "    (11): Linear(in_features=64, out_features=2, bias=True)\n",
            "  )\n",
            ")\n"
          ],
          "name": "stdout"
        }
      ]
    },
    {
      "cell_type": "code",
      "metadata": {
        "id": "Yhi-Du3kLAfj"
      },
      "source": [
        "# Train the model\n",
        "\n",
        "def train_model(train_loader, model, criterion, optimizer):\n",
        "    print(\"Training...\")\n",
        "    \n",
        "    # Set model in 'Training mode'\n",
        "    model.train()\n",
        "\n",
        "    training_loss = 0.0\n",
        "    total_predictions = 0.0\n",
        "    correct_prediction = 0.0\n",
        "\n",
        "    start_time = time.time()\n",
        "    \n",
        "    # enumerate mini batches\n",
        "    for i, (data, target) in enumerate(train_loader):\n",
        "        \n",
        "        # clear the gradients\n",
        "        optimizer.zero_grad()\n",
        "\n",
        "        data = data.to(device)\n",
        "        target = target.to(device)\n",
        "        \n",
        "        # compute the model output\n",
        "        outputs = model(data)\n",
        "        \n",
        "        # calculate loss\n",
        "        loss = criterion(outputs, target.long())\n",
        "        \n",
        "        # Backward pass\n",
        "        loss.backward()\n",
        "        \n",
        "        # Update model weights\n",
        "        optimizer.step()\n",
        "\n",
        "\n",
        "        _, predicted = torch.max(outputs.data, 1)\n",
        "\n",
        "        total_predictions += target.size(0)\n",
        "\n",
        "        correct_prediction += (predicted == target).float().sum().item()\n",
        "        \n",
        "        training_loss += loss.item()\n",
        "\n",
        "\n",
        "    end_time = time.time()\n",
        "    training_loss /= len(train_loader)\n",
        "\n",
        "    print(\"Training Loss = \", training_loss, \" Time = \", end_time - start_time, \"s\")\n",
        "    acc = (correct_prediction/total_predictions) * 100\n",
        "    print(\"Training accuracy = \", acc, \"%\")\n",
        "\n",
        "    return training_loss, acc"
      ],
      "execution_count": null,
      "outputs": []
    },
    {
      "cell_type": "code",
      "metadata": {
        "id": "wASDbz_jLAfj"
      },
      "source": [
        "def evaluate_model(val_loader, model, criterion):\n",
        "\n",
        "    print(\"Validating...\")\n",
        "\n",
        "    with torch.no_grad():\n",
        "\n",
        "        running_loss = 0.0\n",
        "        total_predictions = 0.0\n",
        "        correct_prediction = 0.0\n",
        "        \n",
        "        # Set model in validation mode\n",
        "        model.eval()\n",
        "        \n",
        "        for i, (inputs, target) in enumerate(val_loader):\n",
        "\n",
        "            inputs = inputs.to(device)\n",
        "            target = target.reshape(-1)\n",
        "            target = target.to(device)\n",
        "            \n",
        "            # evaluate the model on the validation set\n",
        "            out = model(inputs)\n",
        "                    \n",
        "            # Calculate validation loss\n",
        "            loss = criterion(out, target.long()).detach()\n",
        "\n",
        "            _, predicted = torch.max(out.data, 1)\n",
        "\n",
        "            total_predictions += target.size(0)\n",
        "\n",
        "            correct_prediction += (predicted == target).float().sum().item()\n",
        "            \n",
        "            running_loss += loss.item()\n",
        "        \n",
        "\n",
        "        running_loss /= len(val_loader)\n",
        "\n",
        "        print(\"Training Loss = \", running_loss)\n",
        "        acc = (correct_prediction/total_predictions) * 100\n",
        "        print(\"Training accuracy = \", acc, \"%\")\n",
        "\n",
        "        return running_loss, acc"
      ],
      "execution_count": null,
      "outputs": []
    },
    {
      "cell_type": "code",
      "metadata": {
        "id": "xlmpgpFmd8n0"
      },
      "source": [
        "directory_to_extract_to = '/content/gdrive/MyDrive/Documents/for_colab/Models'"
      ],
      "execution_count": null,
      "outputs": []
    },
    {
      "cell_type": "code",
      "metadata": {
        "colab": {
          "base_uri": "https://localhost:8080/"
        },
        "id": "5wO3XKytLAfj",
        "outputId": "88a08e1a-108a-456c-fa32-218510949fdd"
      },
      "source": [
        "epochs = 20\n",
        "\n",
        "Train_loss = []\n",
        "Test_loss = []\n",
        "Test_acc = []\n",
        "Train_acc = []\n",
        "\n",
        "trial = 4\n",
        "\n",
        "val_losses = 10000\n",
        "\n",
        "for epoch in range(epochs):\n",
        "    \n",
        "    print(\"Epoch Number = \", epoch)\n",
        "    # Train\n",
        "    training_loss, taining_acc = train_model(train_loader, model, criterion, optimizer)\n",
        "    val_loss, val_acc = evaluate_model(train_loader, model, criterion)\n",
        "\n",
        "    Train_loss.append(training_loss)\n",
        "    Test_loss.append(val_loss)\n",
        "    Test_acc.append(val_acc)\n",
        "    Train_acc.append(taining_acc)\n",
        "\n",
        "    if val_loss < val_losses:\n",
        "      val_losses = val_loss\n",
        "      PATH = directory_to_extract_to + '/'+'trial'+str(trial)+'epoch'+str(epoch)+'.pth'\n",
        "      torch.save(model.state_dict(), PATH)\n",
        "    \n",
        "    # Print log of accuracy and loss\n",
        "    print(\"Epoch: \"+str(epoch)+\", Training loss: \"+str(training_loss)+\", Validation loss:\"+str(val_loss)+\n",
        "          \", Validation accuracy:\"+str(val_acc)+\"%\")\n",
        "    print(\"=\"*20)"
      ],
      "execution_count": null,
      "outputs": [
        {
          "output_type": "stream",
          "text": [
            "Epoch Number =  0\n",
            "Training...\n"
          ],
          "name": "stdout"
        },
        {
          "output_type": "stream",
          "text": [
            "/usr/local/lib/python3.7/dist-packages/torch/utils/data/dataloader.py:481: UserWarning: This DataLoader will create 8 worker processes in total. Our suggested max number of worker in current system is 2, which is smaller than what this DataLoader is going to create. Please be aware that excessive worker creation might get DataLoader running slow or even freeze, lower the worker number to avoid potential slowness/freeze if necessary.\n",
            "  cpuset_checked))\n"
          ],
          "name": "stderr"
        },
        {
          "output_type": "stream",
          "text": [
            "Training Loss =  0.11091427881594586  Time =  1.5892176628112793 s\n",
            "Training accuracy =  94.56521739130434 %\n",
            "Validating...\n",
            "Training Loss =  0.020364445279878768\n",
            "Training accuracy =  100.0 %\n",
            "Epoch: 0, Training loss: 0.11091427881594586, Validation loss:0.020364445279878768, Validation accuracy:100.0%\n",
            "====================\n",
            "Epoch Number =  1\n",
            "Training...\n",
            "Training Loss =  0.06745622856744929  Time =  1.57069730758667 s\n",
            "Training accuracy =  97.82608695652173 %\n",
            "Validating...\n",
            "Training Loss =  0.4935493867682374\n",
            "Training accuracy =  73.36956521739131 %\n",
            "Epoch: 1, Training loss: 0.06745622856744929, Validation loss:0.4935493867682374, Validation accuracy:73.36956521739131%\n",
            "====================\n",
            "Epoch Number =  2\n",
            "Training...\n",
            "Training Loss =  0.10897436028893065  Time =  1.5510690212249756 s\n",
            "Training accuracy =  95.1086956521739 %\n",
            "Validating...\n",
            "Training Loss =  0.008146220108281577\n",
            "Training accuracy =  100.0 %\n",
            "Epoch: 2, Training loss: 0.10897436028893065, Validation loss:0.008146220108281577, Validation accuracy:100.0%\n",
            "====================\n",
            "Epoch Number =  3\n",
            "Training...\n",
            "Training Loss =  0.1649179200074919  Time =  1.5899286270141602 s\n",
            "Training accuracy =  92.3913043478261 %\n",
            "Validating...\n",
            "Training Loss =  0.1019362028505977\n",
            "Training accuracy =  96.19565217391305 %\n",
            "Epoch: 3, Training loss: 0.1649179200074919, Validation loss:0.1019362028505977, Validation accuracy:96.19565217391305%\n",
            "====================\n",
            "Epoch Number =  4\n",
            "Training...\n",
            "Training Loss =  0.1475684714868017  Time =  1.5987260341644287 s\n",
            "Training accuracy =  94.56521739130434 %\n",
            "Validating...\n",
            "Training Loss =  0.026204583133854296\n",
            "Training accuracy =  100.0 %\n",
            "Epoch: 4, Training loss: 0.1475684714868017, Validation loss:0.026204583133854296, Validation accuracy:100.0%\n",
            "====================\n",
            "Epoch Number =  5\n",
            "Training...\n",
            "Training Loss =  0.09618766158414276  Time =  1.6421470642089844 s\n",
            "Training accuracy =  97.28260869565217 %\n",
            "Validating...\n",
            "Training Loss =  0.019402615908209398\n",
            "Training accuracy =  100.0 %\n",
            "Epoch: 5, Training loss: 0.09618766158414276, Validation loss:0.019402615908209398, Validation accuracy:100.0%\n",
            "====================\n",
            "Epoch Number =  6\n",
            "Training...\n",
            "Training Loss =  0.07846144391426249  Time =  1.6837141513824463 s\n",
            "Training accuracy =  97.82608695652173 %\n",
            "Validating...\n",
            "Training Loss =  0.010508723172318676\n",
            "Training accuracy =  100.0 %\n",
            "Epoch: 6, Training loss: 0.07846144391426249, Validation loss:0.010508723172318676, Validation accuracy:100.0%\n",
            "====================\n",
            "Epoch Number =  7\n",
            "Training...\n",
            "Training Loss =  0.05291878351050874  Time =  1.6788604259490967 s\n",
            "Training accuracy =  97.82608695652173 %\n",
            "Validating...\n",
            "Training Loss =  0.006959386319225735\n",
            "Training accuracy =  100.0 %\n",
            "Epoch: 7, Training loss: 0.05291878351050874, Validation loss:0.006959386319225735, Validation accuracy:100.0%\n",
            "====================\n",
            "Epoch Number =  8\n",
            "Training...\n",
            "Training Loss =  0.03788424128383074  Time =  1.5862770080566406 s\n",
            "Training accuracy =  98.36956521739131 %\n",
            "Validating...\n",
            "Training Loss =  0.018015217334639445\n",
            "Training accuracy =  99.45652173913044 %\n",
            "Epoch: 8, Training loss: 0.03788424128383074, Validation loss:0.018015217334639445, Validation accuracy:99.45652173913044%\n",
            "====================\n",
            "Epoch Number =  9\n",
            "Training...\n",
            "Training Loss =  0.07898544320209033  Time =  1.579256534576416 s\n",
            "Training accuracy =  96.19565217391305 %\n",
            "Validating...\n",
            "Training Loss =  0.29505001785960966\n",
            "Training accuracy =  86.41304347826086 %\n",
            "Epoch: 9, Training loss: 0.07898544320209033, Validation loss:0.29505001785960966, Validation accuracy:86.41304347826086%\n",
            "====================\n",
            "Epoch Number =  10\n",
            "Training...\n",
            "Training Loss =  0.05235952165979973  Time =  1.5778753757476807 s\n",
            "Training accuracy =  96.73913043478261 %\n",
            "Validating...\n",
            "Training Loss =  0.016898104011607244\n",
            "Training accuracy =  100.0 %\n",
            "Epoch: 10, Training loss: 0.05235952165979973, Validation loss:0.016898104011607244, Validation accuracy:100.0%\n",
            "====================\n",
            "Epoch Number =  11\n",
            "Training...\n",
            "Training Loss =  0.12204438513246081  Time =  1.5889968872070312 s\n",
            "Training accuracy =  95.1086956521739 %\n",
            "Validating...\n",
            "Training Loss =  0.07235641829396153\n",
            "Training accuracy =  97.82608695652173 %\n",
            "Epoch: 11, Training loss: 0.12204438513246081, Validation loss:0.07235641829396153, Validation accuracy:97.82608695652173%\n",
            "====================\n",
            "Epoch Number =  12\n",
            "Training...\n",
            "Training Loss =  0.05621689938656662  Time =  1.6572866439819336 s\n",
            "Training accuracy =  97.28260869565217 %\n",
            "Validating...\n",
            "Training Loss =  0.021706414874643087\n",
            "Training accuracy =  100.0 %\n",
            "Epoch: 12, Training loss: 0.05621689938656662, Validation loss:0.021706414874643087, Validation accuracy:100.0%\n",
            "====================\n",
            "Epoch Number =  13\n",
            "Training...\n",
            "Training Loss =  0.058000363536057586  Time =  1.650637149810791 s\n",
            "Training accuracy =  98.36956521739131 %\n",
            "Validating...\n",
            "Training Loss =  0.0033504699702303774\n",
            "Training accuracy =  100.0 %\n",
            "Epoch: 13, Training loss: 0.058000363536057586, Validation loss:0.0033504699702303774, Validation accuracy:100.0%\n",
            "====================\n",
            "Epoch Number =  14\n",
            "Training...\n",
            "Training Loss =  0.10549494930866944  Time =  1.608201265335083 s\n",
            "Training accuracy =  98.36956521739131 %\n",
            "Validating...\n",
            "Training Loss =  0.006205089523162947\n",
            "Training accuracy =  100.0 %\n",
            "Epoch: 14, Training loss: 0.10549494930866944, Validation loss:0.006205089523162947, Validation accuracy:100.0%\n",
            "====================\n",
            "Epoch Number =  15\n",
            "Training...\n",
            "Training Loss =  0.10749053230772362  Time =  1.5817983150482178 s\n",
            "Training accuracy =  95.65217391304348 %\n",
            "Validating...\n",
            "Training Loss =  0.003745881530567599\n",
            "Training accuracy =  100.0 %\n",
            "Epoch: 15, Training loss: 0.10749053230772362, Validation loss:0.003745881530567599, Validation accuracy:100.0%\n",
            "====================\n",
            "Epoch Number =  16\n",
            "Training...\n",
            "Training Loss =  0.060654115478467684  Time =  1.5615432262420654 s\n",
            "Training accuracy =  97.28260869565217 %\n",
            "Validating...\n",
            "Training Loss =  0.09783356640350119\n",
            "Training accuracy =  94.56521739130434 %\n",
            "Epoch: 16, Training loss: 0.060654115478467684, Validation loss:0.09783356640350119, Validation accuracy:94.56521739130434%\n",
            "====================\n",
            "Epoch Number =  17\n",
            "Training...\n",
            "Training Loss =  0.05570353127246642  Time =  1.5594635009765625 s\n",
            "Training accuracy =  98.36956521739131 %\n",
            "Validating...\n",
            "Training Loss =  0.22001717085747616\n",
            "Training accuracy =  89.67391304347827 %\n",
            "Epoch: 17, Training loss: 0.05570353127246642, Validation loss:0.22001717085747616, Validation accuracy:89.67391304347827%\n",
            "====================\n",
            "Epoch Number =  18\n",
            "Training...\n",
            "Training Loss =  0.047579753192384604  Time =  1.6476068496704102 s\n",
            "Training accuracy =  98.91304347826086 %\n",
            "Validating...\n",
            "Training Loss =  0.017075594003393275\n",
            "Training accuracy =  99.45652173913044 %\n",
            "Epoch: 18, Training loss: 0.047579753192384604, Validation loss:0.017075594003393275, Validation accuracy:99.45652173913044%\n",
            "====================\n",
            "Epoch Number =  19\n",
            "Training...\n",
            "Training Loss =  0.02033287637143234  Time =  1.6884593963623047 s\n",
            "Training accuracy =  99.45652173913044 %\n",
            "Validating...\n",
            "Training Loss =  0.004772829591551588\n",
            "Training accuracy =  100.0 %\n",
            "Epoch: 19, Training loss: 0.02033287637143234, Validation loss:0.004772829591551588, Validation accuracy:100.0%\n",
            "====================\n"
          ],
          "name": "stdout"
        }
      ]
    },
    {
      "cell_type": "code",
      "metadata": {
        "colab": {
          "base_uri": "https://localhost:8080/",
          "height": 367
        },
        "id": "cuJLxtBXLAfj",
        "outputId": "9f0547f6-bd7c-4771-e518-0cfcf5aae589"
      },
      "source": [
        "#Trial 3 chart\n",
        "plt.figure(figsize=(10, 5))\n",
        "plt.plot(np.arange(epochs), Train_loss, color='red', linestyle='dashed', marker='o',\n",
        "         markerfacecolor='green', markersize=10, label = 'train loss')\n",
        "plt.plot(np.arange(epochs), Test_loss, color='blue', linestyle='dashed', marker='+',\n",
        "         markerfacecolor='green', markersize=10, label = 'val loss')\n",
        "plt.title('Error vs epochs for Trial ' + str(trial) + ' min val loss = ' + str(min(Test_loss)))\n",
        "plt.grid()\n",
        "plt.xlabel('Epochs')\n",
        "plt.ylabel('Error')\n",
        "plt.legend(bbox_to_anchor=(1.05, 1), loc='upper left', borderaxespad=0.)\n",
        "plt.plot()"
      ],
      "execution_count": null,
      "outputs": [
        {
          "output_type": "execute_result",
          "data": {
            "text/plain": [
              "[]"
            ]
          },
          "metadata": {
            "tags": []
          },
          "execution_count": 30
        },
        {
          "output_type": "display_data",
          "data": {
            "image/png": "[encoded data removed]",
            "text/plain": [
              "<Figure size 720x360 with 1 Axes>"
            ]
          },
          "metadata": {
            "tags": [],
            "needs_background": "light"
          }
        }
      ]
    },
    {
      "cell_type": "code",
      "metadata": {
        "id": "22Jz0vA-h-_I",
        "colab": {
          "base_uri": "https://localhost:8080/"
        },
        "outputId": "ba2398a7-c99f-4a4d-e4e3-9ae50d5e63a2"
      },
      "source": [
        "!pip install daft"
      ],
      "execution_count": null,
      "outputs": [
        {
          "output_type": "stream",
          "text": [
            "Requirement already satisfied: daft in /usr/local/lib/python3.7/dist-packages (0.0.4)\n",
            "Requirement already satisfied: matplotlib in /usr/local/lib/python3.7/dist-packages (from daft) (3.2.2)\n",
            "Requirement already satisfied: numpy in /usr/local/lib/python3.7/dist-packages (from daft) (1.19.5)\n",
            "Requirement already satisfied: kiwisolver>=1.0.1 in /usr/local/lib/python3.7/dist-packages (from matplotlib->daft) (1.3.1)\n",
            "Requirement already satisfied: cycler>=0.10 in /usr/local/lib/python3.7/dist-packages (from matplotlib->daft) (0.10.0)\n",
            "Requirement already satisfied: pyparsing!=2.0.4,!=2.1.2,!=2.1.6,>=2.0.1 in /usr/local/lib/python3.7/dist-packages (from matplotlib->daft) (2.4.7)\n",
            "Requirement already satisfied: python-dateutil>=2.1 in /usr/local/lib/python3.7/dist-packages (from matplotlib->daft) (2.8.1)\n",
            "Requirement already satisfied: six in /usr/local/lib/python3.7/dist-packages (from cycler>=0.10->matplotlib->daft) (1.15.0)\n"
          ],
          "name": "stdout"
        }
      ]
    },
    {
      "cell_type": "code",
      "metadata": {
        "id": "j0Vihu7e6E9M"
      },
      "source": [
        ""
      ],
      "execution_count": null,
      "outputs": []
    }
  ]
}